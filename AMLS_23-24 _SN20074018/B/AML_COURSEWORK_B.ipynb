{
 "cells": [
  {
   "cell_type": "code",
   "execution_count": null,
   "id": "63422cfa",
   "metadata": {},
   "outputs": [],
   "source": []
  },
  {
   "cell_type": "code",
   "execution_count": 5,
   "id": "8b20ecba",
   "metadata": {},
   "outputs": [
    {
     "name": "stdout",
     "output_type": "stream",
     "text": [
      "Epoch 1/10\n",
      "2813/2813 [==============================] - 20s 7ms/step - loss: 1.1799 - accuracy: 0.5531 - val_loss: 1.0497 - val_accuracy: 0.6010\n",
      "Epoch 2/10\n",
      "2813/2813 [==============================] - 19s 7ms/step - loss: 0.7709 - accuracy: 0.7183 - val_loss: 0.6975 - val_accuracy: 0.7490\n",
      "Epoch 3/10\n",
      "2813/2813 [==============================] - 19s 7ms/step - loss: 0.6478 - accuracy: 0.7622 - val_loss: 0.6875 - val_accuracy: 0.7482\n",
      "Epoch 4/10\n",
      "2813/2813 [==============================] - 19s 7ms/step - loss: 0.5637 - accuracy: 0.7935 - val_loss: 0.5351 - val_accuracy: 0.8035\n",
      "Epoch 5/10\n",
      "2813/2813 [==============================] - 19s 7ms/step - loss: 0.5151 - accuracy: 0.8104 - val_loss: 0.5278 - val_accuracy: 0.8087\n",
      "Epoch 6/10\n",
      "2813/2813 [==============================] - 19s 7ms/step - loss: 0.4692 - accuracy: 0.8288 - val_loss: 0.4724 - val_accuracy: 0.8291\n",
      "Epoch 7/10\n",
      "2813/2813 [==============================] - 19s 7ms/step - loss: 0.4394 - accuracy: 0.8403 - val_loss: 0.4403 - val_accuracy: 0.8373\n",
      "Epoch 8/10\n",
      "2813/2813 [==============================] - 19s 7ms/step - loss: 0.4143 - accuracy: 0.8496 - val_loss: 0.4037 - val_accuracy: 0.8554\n",
      "Epoch 9/10\n",
      "2813/2813 [==============================] - 19s 7ms/step - loss: 0.3893 - accuracy: 0.8587 - val_loss: 0.3733 - val_accuracy: 0.8622\n",
      "Epoch 10/10\n",
      "2813/2813 [==============================] - 19s 7ms/step - loss: 0.3672 - accuracy: 0.8670 - val_loss: 0.4216 - val_accuracy: 0.8497\n",
      "225/225 [==============================] - 1s 2ms/step - loss: 0.6210 - accuracy: 0.7989\n",
      "Test Accuracy: 79.89%\n",
      "Shape of training images: (89996, 28, 28, 3)\n",
      "Shape of validation images: (10004, 28, 28, 3)\n",
      "Shape of test images: (7180, 28, 28, 3)\n",
      "Shape of training labels: (89996, 1)\n",
      "Shape of validation labels: (10004, 1)\n",
      "Shape of test labels: (7180, 1)\n"
     ]
    }
   ],
   "source": [
    "import numpy as np\n",
    "import tensorflow as tf\n",
    "from tensorflow.keras import layers, models\n",
    "from tensorflow.keras.utils import to_categorical\n",
    "from tensorflow.keras.losses import CategoricalCrossentropy\n",
    "\n",
    "# Load the npz file\n",
    "npz_file_path = r\"C:\\Users\\An\\pathMNIST.npz\"\n",
    "data = np.load(npz_file_path, allow_pickle=True)\n",
    "\n",
    "# Extract arrays from the npz file\n",
    "train_images = data['train_images'] / 255.0\n",
    "val_images = data['val_images'] / 255.0\n",
    "test_images = data['test_images'] / 255.0\n",
    "train_labels = data['train_labels']\n",
    "val_labels = data['val_labels']\n",
    "test_labels = data['test_labels']\n",
    "\n",
    "# One-hot encode labels\n",
    "train_labels_one_hot = to_categorical(train_labels, num_classes=9)\n",
    "val_labels_one_hot = to_categorical(val_labels, num_classes=9)\n",
    "test_labels_one_hot = to_categorical(test_labels, num_classes=9)\n",
    "\n",
    "# Define the model\n",
    "model = models.Sequential([\n",
    "    layers.Conv2D(64, (3, 3), activation='relu', input_shape=(28, 28, 3)),\n",
    "    layers.MaxPooling2D((2, 2)),\n",
    "    layers.Conv2D(64, (3, 3), activation='relu'),\n",
    "    layers.MaxPooling2D((2, 2)),\n",
    "    layers.Conv2D(64, (3, 3), activation='relu'),\n",
    "    layers.Flatten(),\n",
    "    layers.Dense(64, activation='relu'),\n",
    "    layers.Dense(9, activation='softmax')  # 9 classes\n",
    "])\n",
    "\n",
    "# Compile the model\n",
    "model.compile(optimizer='adam',\n",
    "              loss=CategoricalCrossentropy(),\n",
    "              metrics=['accuracy'])\n",
    "\n",
    "# Train the model\n",
    "model.fit(train_images, train_labels_one_hot, epochs=10, validation_data=(val_images, val_labels_one_hot))\n",
    "\n",
    "# Evaluate on the test set\n",
    "test_loss, test_accuracy = model.evaluate(test_images, test_labels_one_hot)\n",
    "print(f'Test Accuracy: {test_accuracy * 100:.2f}%')\n",
    "\n",
    "# Print shapes of the datasets\n",
    "print(\"Shape of training images:\", train_images.shape)\n",
    "print(\"Shape of validation images:\", val_images.shape)\n",
    "print(\"Shape of test images:\", test_images.shape)\n",
    "print(\"Shape of training labels:\", train_labels.shape)\n",
    "print(\"Shape of validation labels:\", val_labels.shape)\n",
    "print(\"Shape of test labels:\", test_labels.shape)"
   ]
  },
  {
   "cell_type": "code",
   "execution_count": null,
   "id": "322098a2",
   "metadata": {},
   "outputs": [],
   "source": []
  }
 ],
 "metadata": {
  "kernelspec": {
   "display_name": "Python 3 (ipykernel)",
   "language": "python",
   "name": "python3"
  },
  "language_info": {
   "codemirror_mode": {
    "name": "ipython",
    "version": 3
   },
   "file_extension": ".py",
   "mimetype": "text/x-python",
   "name": "python",
   "nbconvert_exporter": "python",
   "pygments_lexer": "ipython3",
   "version": "3.11.5"
  }
 },
 "nbformat": 4,
 "nbformat_minor": 5
}
